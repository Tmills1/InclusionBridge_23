{
  "nbformat": 4,
  "nbformat_minor": 0,
  "metadata": {
    "colab": {
      "provenance": [],
      "include_colab_link": true
    },
    "kernelspec": {
      "name": "python3",
      "display_name": "Python 3"
    },
    "language_info": {
      "name": "python"
    }
  },
  "cells": [
    {
      "cell_type": "markdown",
      "metadata": {
        "id": "view-in-github",
        "colab_type": "text"
      },
      "source": [
        "<a href=\"https://colab.research.google.com/github/Tmills1/InclusionBridge_23/blob/main/tyler_mills__Final_Assessment_CA23_v2.ipynb\" target=\"_parent\"><img src=\"https://colab.research.google.com/assets/colab-badge.svg\" alt=\"Open In Colab\"/></a>"
      ]
    },
    {
      "cell_type": "markdown",
      "source": [
        "```\n",
        "BEGIN ASSIGNMENT\n",
        "generate: true\n",
        "files:\n",
        "    - california_housing.csv\n",
        "    - loan_default.csv\n",
        "```\n"
      ],
      "metadata": {
        "id": "PUhAnwGxVVlz"
      }
    },
    {
      "cell_type": "markdown",
      "source": [
        "# College Advantage (Foundations of Data Science) Final Assessment\n",
        "\n",
        "In this examination, we will explore the fundamental concepts and techniques used in statistical hypothesis testing, regression analysis and classification. These statistical methods play a crucial role in understanding relationships between variables, making predictions, and drawing conclusions from data. Throughout this exam, you will have the opportunity to apply your knowledge, critical thinking, and analytical skills to solve various problems and interpret statistical results. Good luck, and let's begin this journey into hypothesis testing and regression analysis!\n",
        "\n",
        "In this project, we will investigate two problems, house price estimation and loan default tendencies.\n",
        "\n",
        "Here is a roadmap for this project:\n",
        "\n",
        "* In Part 1, You will explore hypothesis testing and assess the validity of a several claims partaining to loan defaults. You will also be required to determine whether there is enough evidence to support or reject these claims.\n",
        "* In Part 2, Given the california housing dataset, you will be required to build a regression model to predict the average price of houses.\n",
        "* In Part 3, Given the loan default dataset, you will be required to build a k-Nearest Neighbors classifier to predict the tendency of a customer defaulting on loan payment."
      ],
      "metadata": {
        "id": "_rAyhloIVexk"
      }
    },
    {
      "cell_type": "code",
      "execution_count": 1,
      "metadata": {
        "id": "tBS5p8AsTOb-"
      },
      "outputs": [],
      "source": [
        "from datascience import *\n",
        "import numpy as np\n",
        "import pandas as pd\n",
        "\n",
        "%matplotlib inline\n",
        "import matplotlib.pyplot as plots\n",
        "plots.style.use('fivethirtyeight')\n",
        "np.set_printoptions(legacy='1.13')\n"
      ]
    },
    {
      "cell_type": "code",
      "source": [
        "from google.colab import drive\n",
        "drive.mount('/content/drive', force_remount=True)"
      ],
      "metadata": {
        "id": "B2vuwl_m8mgg",
        "colab": {
          "base_uri": "https://localhost:8080/"
        },
        "outputId": "54060222-4218-4db0-e2aa-d0dd0c43ec5d"
      },
      "execution_count": 2,
      "outputs": [
        {
          "output_type": "stream",
          "name": "stdout",
          "text": [
            "Mounted at /content/drive\n"
          ]
        }
      ]
    },
    {
      "cell_type": "code",
      "source": [
        "import os\n",
        "mypath = '/content/drive/My Drive/TylerMills_inclusionBridge23' # Replace MY Folder with the name of your folder\n",
        "os.chdir(mypath)"
      ],
      "metadata": {
        "id": "jdBAboDDGCtr"
      },
      "execution_count": 5,
      "outputs": []
    },
    {
      "cell_type": "markdown",
      "source": [
        "## Part 1: A/B Testing: A Case study of loan default prediction.\n",
        "\n",
        "\n",
        "Loan defaulting is a significant issue in the financial industry, impacting both lenders and borrowers. Defaults occur when borrowers fail to repay their loans, leading to financial losses and potential instability in the financial system. To mitigate this risk, it is essential to understand the factors contributing to loan defaults.\n",
        "\n",
        "The `loan default` dataset consists of several customer characteristics which are believed to influence loan defaulting. By considering these factors, lenders can minimize default risks and promote responsible lending practices.\n",
        "\n",
        "The features in this dataset includes:\n",
        "- `Income`:\tIncome of the user\n",
        "- `Age`:\tAge of the user\n",
        "- `Experience`:\tProfessional experience of the user in years\n",
        "- `Profession`:\tProfession\n",
        "- `Marital Status`:\tWhether married or single\n",
        "- `House_Ownership`:\tOwned or rented or neither\n",
        "- `Car_Ownership`:\tDoes the person own a car\n",
        "- `Risk_Flag`:\tDefaulted on a loan\n",
        "- `Current_Job_Yrs`:\tYears of experience in the current job\n",
        "- `Current_House_Yrs`:\tNumber of years in the current residence\n",
        "\n",
        "Here we will load the dataset:"
      ],
      "metadata": {
        "id": "fSktOwoLRGNF"
      }
    },
    {
      "cell_type": "code",
      "source": [
        "#import the data set called 'loan_default.csv'\n",
        "import pandas as pd\n",
        "\n",
        "# Read the loan_default.csv dataset into a DataFrame\n",
        "loan_data = pd.read_csv('loan_default.csv')\n",
        "\n",
        "# View the first few rows of the data\n",
        "print(loan_data.head())"
      ],
      "metadata": {
        "id": "XdFDtffhCzPW",
        "colab": {
          "base_uri": "https://localhost:8080/"
        },
        "outputId": "5986f827-fe97-4603-d2b7-2e676502ba23"
      },
      "execution_count": 10,
      "outputs": [
        {
          "output_type": "stream",
          "name": "stdout",
          "text": [
            "    Income  Age  Experience Marital Status House_Ownership Car_Ownership  \\\n",
            "0  1020861   42          17         single          rented            no   \n",
            "1  2499276   21           0         single          rented            no   \n",
            "2  9241363   62          18         single          rented           yes   \n",
            "3  7059372   43           4        married           owned            no   \n",
            "4  3957826   78          13         single          rented            no   \n",
            "\n",
            "   Current_Job_Yrs  Current_House_Yrs  Risk_Flag  \n",
            "0                7                 14          1  \n",
            "1                0                 12          1  \n",
            "2                5                 11          1  \n",
            "3                4                 13          1  \n",
            "4               11                 11          1  \n"
          ]
        }
      ]
    },
    {
      "cell_type": "markdown",
      "source": [
        "**Problem 1:** Here, you will investigate the relationship between marital status and loan default rates.\n",
        "\n",
        "**Case Study:** You are a data scientist working for a financial institution that provides loans to individuals. The institution wants to investigate whether there is a significant difference in loan default rates between married and single individuals.\n",
        "\n",
        "In this case, you will examine the relationship between marital status (married vs. single) and the risk of loan default within a given population. The institution believes that marital status has no effect on loan default risk.\n",
        "\n",
        "Hence, you are going to conduct a hypothesis test with the following null and alternative hypotheses:\n",
        "\n",
        "- **Null Hypothesis:** There is no significant difference between the default rate in married and single individuals.\n",
        "- **Alternative Hypothesis:** single individuals have a significantly higher default rate than married individuals.\n"
      ],
      "metadata": {
        "id": "s02y0VZPTN9I"
      }
    },
    {
      "cell_type": "markdown",
      "source": [
        "**Test statistics of choice:** To conduct an hypothesis test using the loan default dataset, you will divide the dataset into two groups: married individuals (Group A) and single individuals (Group B). The test statistic used in this test will be the difference in the proportion of married and single customers who defaulted.\n",
        "\n",
        "For each group, you will count the number of defaulters (Risk_Flag = 1) and divide it by the total number of individuals in that group. The difference in these proportion will serve as the test statistic."
      ],
      "metadata": {
        "id": "kBD-yYHqUPKg"
      }
    },
    {
      "cell_type": "markdown",
      "source": [
        "**Exercise 1.1.1:** This is the first step of your hypothesis test. Here, you are required to to first split the `loan_data` table into two groups namely `single_group` and `married_group`. The `single_group` and `married_group` are subsets of the loan default dataset containing customers who are single and married respectively. The hypothesis test exercise will revolve around these two groups."
      ],
      "metadata": {
        "id": "42CX_IS5eYbo"
      }
    },
    {
      "cell_type": "code",
      "source": [
        "# Define the groups based on marital status\n",
        "import pandas as pd\n",
        "\n",
        "# Load loan data from the CSV file\n",
        "loan_data = pd.read_csv('loan_default.csv')\n",
        "\n",
        "# Define the groups based on marital status\n",
        "married_group = loan_data[loan_data['Marital Status'] == 'Married']\n",
        "single_group = loan_data[loan_data['Marital Status'] == 'Single']\n"
      ],
      "metadata": {
        "id": "BkrqATXVeYbv"
      },
      "execution_count": 9,
      "outputs": []
    },
    {
      "cell_type": "markdown",
      "source": [
        "**Exercise 1.1.2:** To create a balanced dataset, you will sample a total number of 150 instances (rows) (without replacement) for each of the groups and recombine into a single data subset `marital_status_balanced`.\n",
        "\n",
        "\n"
      ],
      "metadata": {
        "id": "YzJwaCykeYbv"
      }
    },
    {
      "cell_type": "code",
      "source": [
        "import pandas as pd\n",
        "\n",
        "sample_size = 150  # Define the sample size for each group\n",
        "\n",
        "if len(single_group) >= sample_size and len(married_group) >= sample_size:\n",
        "    single_subset = single_group.sample(n=sample_size, replace=False)\n",
        "    married_subset = married_group.sample(n=sample_size, replace=False)\n",
        "\n",
        "    # Combine data to create a balanced subset with only the relevant columns: `Risk_Flag` and `Marital Status`\n",
        "    marital_status_balanced = pd.concat([single_subset[['Risk_Flag', 'Marital Status']],\n",
        "                                         married_subset[['Risk_Flag', 'Marital Status']]])\n",
        "else:\n",
        "    print(\"Sample size exceeds the available data points in one or both groups.\")\n",
        "\n",
        "\n"
      ],
      "metadata": {
        "id": "BMl-R7cudX67",
        "colab": {
          "base_uri": "https://localhost:8080/"
        },
        "outputId": "43022d86-5fc6-4070-fb2a-eeb1e8c4a00a"
      },
      "execution_count": 12,
      "outputs": [
        {
          "output_type": "stream",
          "name": "stdout",
          "text": [
            "Sample size exceeds the available data points in one or both groups.\n"
          ]
        }
      ]
    },
    {
      "cell_type": "markdown",
      "source": [
        "**Exercise 1.1.3:** Here you will carry out 1000 permutation trials. In each trial, you will shuffle the `Marital Status` column and compute the test statistic, which is the difference in the proportion of defaulters who are married and single. Store the result of each of your trials in an array called `simulated_statistics_list`.\n",
        "\n",
        "\n",
        "*Hint: remember to shuffle the group_label each time before computing the test statistic in your simulation.*\n",
        "\n",
        "*Hint2: you might want to define a function to calculate one test statistic.*"
      ],
      "metadata": {
        "id": "yzft2SUNhfhP"
      }
    },
    {
      "cell_type": "code",
      "source": [
        "import random\n",
        "\n",
        "def calculate_test_statistic(data):\n",
        "    married_default_rate = data[data['Marital Status'] == 'married']['Risk_Flag'].mean()\n",
        "    single_default_rate = data[data['Marital Status'] == 'single']['Risk_Flag'].mean()\n",
        "    return single_default_rate - married_default_rate\n",
        "\n",
        "repetitions = 1000  # Define the number of repetitions\n",
        "\n",
        "# Initialize an array to store the test statistics\n",
        "# simulated_statistics_list = []\n",
        "simulated_statistics_list = []\n",
        "\n",
        "# Simulate 1000 test statistics by shuffling the label column, computing statistics, and adding to the simulated_statistics_list\n",
        "for i in range(repetitions):\n",
        "    shuffled_data = marital_status_balanced.copy()\n",
        "    shuffled_data['Marital Status'] = shuffled_data['Marital Status'].sample(frac=1).reset_index(drop=True)\n",
        "    test_statistic = calculate_test_statistic(shuffled_data)\n",
        "    simulated_statistics_list.append(test_statistic)\n",
        "\n"
      ],
      "metadata": {
        "id": "iORZR2greYbw"
      },
      "execution_count": 21,
      "outputs": []
    },
    {
      "cell_type": "markdown",
      "source": [
        "**Exercise 1.1.4** Here, you will compute an empirical P-value for the simulation test in the previous exercise. To do this you would have to compute the observed value of the test statistic in the balanced dataset. i.e The difference in proportion between defualted customers in both groups using the `marital_status_balanced` table. Assign this value to `observed_test_statistic_1`."
      ],
      "metadata": {
        "id": "OU5C1Os1eYbw"
      }
    },
    {
      "cell_type": "code",
      "source": [
        "observed_default_rate_married = marital_status_balanced[marital_status_balanced['Marital Status'] == 'Married']['Risk_Flag'].mean()\n",
        "observed_default_rate_single = marital_status_balanced[marital_status_balanced['Marital Status'] == 'Single']['Risk_Flag'].mean()\n",
        "observed_test_statistic_1 = observed_default_rate_single - observed_default_rate_married\n",
        "\n",
        "p_value_1 = (np.abs(simulated_statistics_list) >= np.abs(observed_test_statistic_1)).mean()\n"
      ],
      "metadata": {
        "id": "kg4SgqUHjZBv"
      },
      "execution_count": 18,
      "outputs": []
    },
    {
      "cell_type": "code",
      "source": [
        "import matplotlib.pyplot as plt\n",
        "import numpy as np\n",
        "\n",
        "# Remove NaN values from simulated statistics list\n",
        "simulated_statistics_list = simulated_statistics_list[~np.isnan(simulated_statistics_list)]\n",
        "\n",
        "# Plot the simulated empirical distribution\n",
        "plt.hist(simulated_statistics_list, bins=30, edgecolor='black')\n",
        "plt.axvline(x=observed_test_statistic_1, color='red', linestyle='dashed', linewidth=2, label='Observed Test Statistic')\n",
        "plt.xlabel('Test Statistic')\n",
        "plt.ylabel('Frequency')\n",
        "plt.title('Simulated Empirical Distribution')\n",
        "plt.legend()\n",
        "plt.show()\n",
        "\n"
      ],
      "metadata": {
        "id": "mYwyFCjFipUp",
        "colab": {
          "base_uri": "https://localhost:8080/",
          "height": 508
        },
        "outputId": "e17bd75f-e542-42ec-8251-cd4838d589f2"
      },
      "execution_count": 20,
      "outputs": [
        {
          "output_type": "display_data",
          "data": {
            "text/plain": [
              "<Figure size 640x480 with 1 Axes>"
            ],
            "image/png": "[encoded data removed]"
          },
          "metadata": {}
        }
      ]
    },
    {
      "cell_type": "markdown",
      "source": [
        "**Exercise 1.1.5** Suppose you use a P-value cutoff of 5%. Which of the following is the appropriate conclusion from the hypothesis test?\n",
        "1. The p-value we observed is below the 5% cutoff, so we conclude that the data support the alternative hypothesis.\n",
        "2. The p-value we observed is above the 5% cutoff, so we conclude that there is not enough evidence to reject the null hypothesis.\n",
        "3. The p-value we observed is below the 5% cutoff, so we conclude that there is not enough evidence to reject the null hypothesis.\n",
        "4. The p-value we observed is above the 5% cutoff, so we conclude that the data support the alternative hypothesis.\n",
        "\n",
        "Assign `conclusion_1` to the number corresponding to your answer."
      ],
      "metadata": {
        "id": "n5NrPwvkeYbx"
      }
    },
    {
      "cell_type": "code",
      "source": [
        "conclusion_1 = 1"
      ],
      "metadata": {
        "id": "xTzP3bEGeYbx"
      },
      "execution_count": null,
      "outputs": []
    },
    {
      "cell_type": "code",
      "source": [],
      "metadata": {
        "id": "WiGqa_i1LYT0"
      },
      "execution_count": null,
      "outputs": []
    },
    {
      "cell_type": "markdown",
      "source": [
        "**Problem 2:** Here, you will investigate the relationship between Age and loan default rates.\n",
        "\n",
        "**Case Study:** You are a data scientist working for a lending company that provides personal loans. The company believes that age has nothing to with the risk of defaulting on loans.\n",
        "\n",
        "Your task is to investigate the relationship between Age and default risk. The hypothesis is that there is no significant difference between the ages of those who default and those who repay promptly.\n",
        "\n",
        "Hence, you are going to conduct a hypothesis test with the following null and alternative hypotheses:\n",
        "\n",
        "- **Null Hypothesis:** There is no significant difference between the ages of those who default and those who repay promptly.\n",
        "- **Alternative Hypothesis:** There is a significant difference between the ages of those who default and those who repay promptly.\n",
        "\n",
        "Determine if there is evidence to support the alternative hypothesis."
      ],
      "metadata": {
        "id": "H9BS9PTdVI2_"
      }
    },
    {
      "cell_type": "markdown",
      "source": [
        "**Test statistic of choice:** To test this hypothesis, you will conduct an A/B test using the loan default dataset. You will split the dataset into two groups: those who are at risk of defaulting (Group A: `Risk_Flag = 1`), and those who are likely to pay back (Group B: `Risk_Flag = 0`). The test statistic used in this A/B test will be the difference in the mean age of customers who default against those that do not."
      ],
      "metadata": {
        "id": "9WR1O7X5TLon"
      }
    },
    {
      "cell_type": "markdown",
      "source": [
        "**Exercise 2.2.1:** This is the first step of your A/B test. Here, you are required to to first split the `loan_data` table into two groups namely `default_group` and `repay_group`. The `default_group` and `repay_group` are subsets of the loan default dataset containing customers who defaulted in repayment and those who repay promptly respectively. The A/B test exercise will revolve around these two groups."
      ],
      "metadata": {
        "id": "tFcENoOXj77r"
      }
    },
    {
      "cell_type": "code",
      "source": [
        "# Define the groups based on risk flag\n",
        "default_group = loan_data[loan_data['Risk_Flag'] == 1]#YOUR SOLUTION HERE\n",
        "repay_group = loan_data[loan_data['Risk_Flag'] == 0]#YOUR SOLUTION HERE"
      ],
      "metadata": {
        "id": "LWwVpQQFj77z"
      },
      "execution_count": 30,
      "outputs": []
    },
    {
      "cell_type": "markdown",
      "source": [
        "**Exercise 2.2.2:** To create a balanced dataset, you will sample a total number of 500 instances (rows) (without replacement) for each of the groups and recombine into a single data subset `age_balanced`."
      ],
      "metadata": {
        "id": "g-sfUydEj77z"
      }
    },
    {
      "cell_type": "code",
      "source": [
        " # Perform A/B testing\n",
        "sample_size = 500 # Define the sample size for each group\n",
        "\n",
        "#Create a subset of the repay_group and the default_group\n",
        "repay_subset = repay_group.sample(n=sample_size, replace=False)\n",
        "default_subset = default_group.sample(n=sample_size, replace=False)\n",
        "\n",
        "#Combine data to create a balanced subset with only the relevant columns: `Age` and `Risk_Flag` (You do not have to do this on a single line!)\n",
        "age_balanced = pd.concat([default_subset, repay_subset], ignore_index=True)\n",
        "\n"
      ],
      "metadata": {
        "id": "1par_aHvj77z"
      },
      "execution_count": 31,
      "outputs": []
    },
    {
      "cell_type": "markdown",
      "source": [
        "**Exercise 2.2.3** Here you will carry out 1000 permutation trials. In each trial, you will shuffle the `Risk_Flag` column and compute the test statistic, which is the difference in the average `Age` of both groups. Store the result of each of your trials in an array called `simulated_statistics_list`."
      ],
      "metadata": {
        "id": "vfOxPGykj77z"
      }
    },
    {
      "cell_type": "code",
      "source": [
        "repetitions = 1000  # Define the number of repetitions\n",
        "\n",
        "# Initialize an array to store the test statistics\n",
        "simulated_statistics_list = np.zeros(repetitions)\n",
        "\n",
        "# Perform the permutation trials\n",
        "for i in range(repetitions):\n",
        "    # Shuffle the 'Risk_Flag' column\n",
        "    shuffled_risk_flag = age_balanced['Risk_Flag'].sample(frac=1).reset_index(drop=True)\n",
        "\n",
        "    # Create a shuffled dataset by replacing the 'Risk_Flag' column\n",
        "    shuffled_age_balanced = age_balanced.copy()\n",
        "    shuffled_age_balanced['Risk_Flag'] = shuffled_risk_flag\n",
        "\n",
        "    # Compute the test statistic (difference in average Age)\n",
        "    diff_age = shuffled_age_balanced.groupby('Risk_Flag')['Age'].mean().diff().iloc[-1]\n",
        "\n",
        "    # Store the test statistic in the array\n",
        "    simulated_statistics_list[i] = diff_age\n"
      ],
      "metadata": {
        "id": "2HWhQu0fjLnu"
      },
      "execution_count": 32,
      "outputs": []
    },
    {
      "cell_type": "markdown",
      "source": [
        "**Exercise 2.2.4:** Here, you will compute an empirical P-value for the simulation test in the previous exercise. To do this you would have to compute the observed value of the test statistic in the balanced dataset. i.e The mean difference between the two groups from the `age_balanced` table. Assign this value to `observed_test_statistic_2`."
      ],
      "metadata": {
        "id": "90CcP3DGjcY4"
      }
    },
    {
      "cell_type": "markdown",
      "source": [],
      "metadata": {
        "id": "vRFcTo5bL3K6"
      }
    },
    {
      "cell_type": "code",
      "source": [
        "# Compute the observed test statistic\n",
        "observed_test_statistic_2 = age_balanced[age_balanced['Risk_Flag'] == 1]['Age'].mean() - age_balanced[age_balanced['Risk_Flag'] == 0]['Age'].mean()\n",
        "\n",
        "# Compute the empirical p-value\n",
        "p_value_2 = (np.abs(simulated_statistics_list) >= np.abs(observed_test_statistic_2)).mean()\n",
        "\n",
        "# Print the results\n",
        "print(\"Observed Test Statistic:\", observed_test_statistic_2)\n",
        "print(\"P-value:\", p_value_2)\n"
      ],
      "metadata": {
        "id": "iLH9TC55j77z",
        "colab": {
          "base_uri": "https://localhost:8080/"
        },
        "outputId": "be6975fb-4e10-4b01-94ad-ed003d6e0b9a"
      },
      "execution_count": 33,
      "outputs": [
        {
          "output_type": "stream",
          "name": "stdout",
          "text": [
            "Observed Test Statistic: -1.794\n",
            "P-value: 0.13\n"
          ]
        }
      ]
    },
    {
      "cell_type": "code",
      "source": [
        "# if you would like to check your work, plot the simulated emperical distribution\n"
      ],
      "metadata": {
        "id": "oQn6DhP1jLnu"
      },
      "execution_count": null,
      "outputs": []
    },
    {
      "cell_type": "markdown",
      "source": [
        "**Exercise 2.2.5** Suppose you use a P-value cutoff of 5%. Which of the following is the appropriate conclusion from the hypothesis test?\n",
        "1. The p-value we observed is below the 5% cutoff, so we conclude that the data support the alternative hypothesis.\n",
        "2. The p-value we observed is above the 5% cutoff, so we conclude that there is not enough evidence to reject the null hypothesis.\n",
        "3. The p-value we observed is below the 5% cutoff, so we conclude that there is not enough evidence to reject the null hypothesis.\n",
        "4. The p-value we observed is above the 5% cutoff, so we conclude that the data support the alternative hypothesis.\n",
        "\n",
        "Assign `conclusion_2` to the number corresponding to your answer."
      ],
      "metadata": {
        "id": "f-AIZh36j770"
      }
    },
    {
      "cell_type": "code",
      "source": [
        "conclusion_2 = 1"
      ],
      "metadata": {
        "id": "q6eh6R4Gj770"
      },
      "execution_count": null,
      "outputs": []
    },
    {
      "cell_type": "markdown",
      "source": [
        "## Part 2: Regression Analysis: Predicting median house prices in california!\n",
        "Housing has been a topic of concern for all Californians due to the rising prices. It leads to the question: why are homes in California so expensive?\n",
        "\n",
        "The California Housing Dataset uses information from the 1990 census. We may be able to use the data to develop insight into how housing value is distributed throughout California. The data set contains 10 features of 11,496 observations. Each observation is a single block within California.\n",
        "\n",
        "All of the features are quantitative aside from ocean_proximity, which is an categorical variable containing three classes: INLAND, NEAR BAY, and NEAR OCEAN. The data to be used in this section pertains to the houses found in a given California district and some summary stats about them based on the 1990 census data. The features in the housing dataset include:\n",
        "\n",
        "- longitude: A measure of how far west a house is; a higher value is farther west.\n",
        "\n",
        "- latitude: A measure of how far north a house is; a higher value is farther north.\n",
        "\n",
        "- housing_median_age: Median age of a house within a block; a lower number is a newer building.\n",
        "\n",
        "- total_rooms: Total number of rooms within a block.\n",
        "\n",
        "- total_bedrooms: Total number of bedrooms within a block.\n",
        "\n",
        "- population: Total number of people residing within a block.\n",
        "\n",
        "- households: Total number of households, a group of people residing within a home unit, for a block.\n",
        "\n",
        "- median_income: Median income for households within a block of houses (measured in tens of thousands of US Dollars).\n",
        "\n",
        "- median_house_value: Median house value for households within a block (measured in US Dollars).\n",
        "\n",
        "- ocean_proximity: Location of the house with respect to the ocean/sea\n",
        "\n",
        "\n"
      ],
      "metadata": {
        "id": "YRyjiMkxV5L_"
      }
    },
    {
      "cell_type": "markdown",
      "source": [
        "The Problem statement\n",
        "\n",
        "Khalifa housing company wants to predict median house value using the best variable which they think is the number of rooms per household. To get this number, they divided `total_rooms` by `households` to engineer this feature `total_rooms_per_household`.  By performing a correlation for this variable `total_rooms_per_household`, for each `ocean_proximity` category you find the best subset (highest correlation), to create a regression model and then test your model across the other two categories to see how well it generalizes.\n"
      ],
      "metadata": {
        "id": "G5QPlQedH3Ta"
      }
    },
    {
      "cell_type": "code",
      "source": [
        "#import the data set called 'california_housing.csv'\n",
        "housing_data = ...\n",
        "# view the first view rows of your data\n",
        "\n",
        "#Calculate the new variable 'total_rooms_per_household\n",
        "\n",
        "\n"
      ],
      "metadata": {
        "id": "MoHeKyjGlIQi"
      },
      "execution_count": null,
      "outputs": []
    },
    {
      "cell_type": "code",
      "source": [
        "#import the data set called 'california_housing.csv'\n",
        "import pandas as pd\n",
        "housing_data = pd.read_csv('california_housing.csv')\n",
        "# view the first view rows of your data\n",
        "housing_data.head()\n",
        "#Calculate the new variable 'total_rooms_per_household\n",
        "housing_data['total_rooms_per_household'] = housing_data['total_rooms'] / housing_data['households']"
      ],
      "metadata": {
        "id": "V7xwdRxmyXsM"
      },
      "execution_count": 41,
      "outputs": []
    },
    {
      "cell_type": "markdown",
      "metadata": {
        "id": "zQz7zeSTAEtp"
      },
      "source": [
        "**Exercise 3.1:** The first task is to identify subset has the highest correlation of `total_rooms_per_household`to `median_house_value` for each category of INLAND, NEAR OCEAN and NEAR BAY.\n",
        "\n",
        "Hint: divide your data set into 3 and name them inland_subset, near_ocean_subset and near_bay_subset.\n",
        "\n",
        "hint: define a function to determine standards unit (if necessary) to find the correlation or use pandas function to find the correlation."
      ]
    },
    {
      "cell_type": "code",
      "source": [
        "#Write your code here to find the correlation between total_rooms_per_household_ and median_house_value for each category\n",
        "# Divide the data into subsets based on ocean_proximity category\n",
        "inland_subset = housing_data[housing_data['ocean_proximity'] == 'INLAND']\n",
        "near_ocean_subset = housing_data[housing_data['ocean_proximity'] == 'NEAR OCEAN']\n",
        "near_bay_subset = housing_data[housing_data['ocean_proximity'] == 'NEAR BAY']\n",
        "\n",
        "# Define function to calculate correlation\n",
        "def calculate_correlation(df):\n",
        "    return df['total_rooms_per_household'].corr(df['median_house_value'])\n",
        "\n",
        "# correlation for each subset\n",
        "correlation_inland = calculate_correlation(inland_subset)\n",
        "correlation_near_ocean = calculate_correlation(near_ocean_subset)\n",
        "correlation_near_bay = calculate_correlation(near_bay_subset)\n",
        "\n",
        "print(\"Correlation for INLAND subset:\", correlation_inland)\n",
        "print(\"Correlation for NEAR OCEAN subset:\", correlation_near_ocean)\n",
        "print(\"Correlation for NEAR BAY subset:\", correlation_near_bay)\n"
      ],
      "metadata": {
        "id": "lPw1du1dUf5u",
        "colab": {
          "base_uri": "https://localhost:8080/"
        },
        "outputId": "572f0c27-ef54-40dc-b9ae-df1492332e99"
      },
      "execution_count": 42,
      "outputs": [
        {
          "output_type": "stream",
          "name": "stdout",
          "text": [
            "Correlation for INLAND subset: 0.197864054042\n",
            "Correlation for NEAR OCEAN subset: 0.486719333323\n",
            "Correlation for NEAR BAY subset: 0.354631152413\n"
          ]
        }
      ]
    },
    {
      "cell_type": "code",
      "source": [
        "# Find the subset with the highest correlation\n",
        "highest_category_subset = None\n",
        "highest_correlation = 0\n",
        "\n",
        "if correlation_inland > correlation_near_ocean and correlation_inland > correlation_near_bay:\n",
        "    highest_category_subset = inland_subset\n",
        "    highest_correlation = correlation_inland\n",
        "elif correlation_near_ocean > correlation_inland and correlation_near_ocean > correlation_near_bay:\n",
        "    highest_category_subset = near_ocean_subset\n",
        "    highest_correlation = correlation_near_ocean\n",
        "else:\n",
        "    highest_category_subset = near_bay_subset\n",
        "    highest_correlation = correlation_near_bay\n",
        "\n",
        "# Print the subset with the highest correlation\n",
        "print(\"Subset with the highest correlation:\")\n",
        "print(highest_category_subset)\n",
        "print(\"Highest correlation:\", highest_correlation)"
      ],
      "metadata": {
        "id": "N1-0bpB7ZrEU",
        "colab": {
          "base_uri": "https://localhost:8080/"
        },
        "outputId": "1aa320dd-e73d-44a7-f12c-2995f4b2a92e"
      },
      "execution_count": 43,
      "outputs": [
        {
          "output_type": "stream",
          "name": "stdout",
          "text": [
            "Subset with the highest correlation:\n",
            "       longitude  latitude  housing_median_age  total_rooms  total_bedrooms  \\\n",
            "1737     -124.17     41.80                16.0       2739.0           480.0   \n",
            "1738     -124.30     41.80                19.0       2672.0           552.0   \n",
            "1739     -124.23     41.75                11.0       3159.0           616.0   \n",
            "1740     -124.21     41.77                17.0       3461.0           722.0   \n",
            "1741     -124.19     41.78                15.0       3140.0           714.0   \n",
            "...          ...       ...                 ...          ...             ...   \n",
            "11361    -118.83     34.14                16.0       1316.0           194.0   \n",
            "11362    -118.83     34.14                16.0       1956.0           312.0   \n",
            "11363    -119.00     34.08                17.0       1822.0           438.0   \n",
            "11364    -118.75     34.18                 4.0      16704.0          2704.0   \n",
            "11365    -118.75     34.17                18.0       6217.0           858.0   \n",
            "\n",
            "       population  households  median_income  median_house_value  \\\n",
            "1737       1259.0       436.0         3.7557            109400.0   \n",
            "1738       1298.0       478.0         1.9797             85800.0   \n",
            "1739       1343.0       479.0         2.4805             73200.0   \n",
            "1740       1947.0       647.0         2.5795             68400.0   \n",
            "1741       1645.0       640.0         1.6654             74600.0   \n",
            "...           ...         ...            ...                 ...   \n",
            "11361       450.0       173.0        10.1597            500001.0   \n",
            "11362       671.0       319.0         6.4001            321800.0   \n",
            "11363       578.0       291.0         5.4346            428600.0   \n",
            "11364      6187.0      2207.0         6.6122            357600.0   \n",
            "11365      2703.0       834.0         6.8075            325900.0   \n",
            "\n",
            "      ocean_proximity  total_rooms_per_household  \n",
            "1737       NEAR OCEAN                   6.282110  \n",
            "1738       NEAR OCEAN                   5.589958  \n",
            "1739       NEAR OCEAN                   6.594990  \n",
            "1740       NEAR OCEAN                   5.349304  \n",
            "1741       NEAR OCEAN                   4.906250  \n",
            "...               ...                        ...  \n",
            "11361      NEAR OCEAN                   7.606936  \n",
            "11362      NEAR OCEAN                   6.131661  \n",
            "11363      NEAR OCEAN                   6.261168  \n",
            "11364      NEAR OCEAN                   7.568645  \n",
            "11365      NEAR OCEAN                   7.454436  \n",
            "\n",
            "[2658 rows x 11 columns]\n",
            "Highest correlation: 0.486719333323\n"
          ]
        }
      ]
    },
    {
      "cell_type": "markdown",
      "source": [
        "**Question 3.2**: As a data scientist, investigate the correlation between the variables for your chosen subset by using a scatterplot."
      ],
      "metadata": {
        "id": "15QEUN_j0AER"
      }
    },
    {
      "cell_type": "code",
      "source": [
        "import pandas as pd\n",
        "import matplotlib.pyplot as plt\n",
        "\n",
        "# Read the housing data\n",
        "housing_data = pd.read_csv('california_housing.csv')\n",
        "\n",
        "# Calculate the new variable 'total_rooms_per_household'\n",
        "housing_data['total_rooms_per_household'] = housing_data['total_rooms'] / housing_data['households']\n",
        "\n",
        "# Divide the data into subsets based on ocean_proximity category\n",
        "inland_subset = housing_data[housing_data['ocean_proximity'] == 'INLAND']\n",
        "near_ocean_subset = housing_data[housing_data['ocean_proximity'] == 'NEAR OCEAN']\n",
        "near_bay_subset = housing_data[housing_data['ocean_proximity'] == 'NEAR BAY']\n",
        "\n",
        "# Define function to calculate correlation\n",
        "def calculate_correlation(df):\n",
        "    return df['total_rooms_per_household'].corr(df['median_house_value'])\n",
        "\n",
        "# Calculate correlation for each subset\n",
        "correlation_inland = calculate_correlation(inland_subset)\n",
        "correlation_near_ocean = calculate_correlation(near_ocean_subset)\n",
        "correlation_near_bay = calculate_correlation(near_bay_subset)\n",
        "\n",
        "print(\"Correlation for INLAND subset:\", correlation_inland)\n",
        "print(\"Correlation for NEAR OCEAN subset:\", correlation_near_ocean)\n",
        "print(\"Correlation for NEAR BAY subset:\", correlation_near_bay)\n",
        "\n",
        "# Find the subset with the highest correlation\n",
        "highest_category_subset = None\n",
        "highest_correlation = 0\n",
        "\n",
        "if correlation_inland > correlation_near_ocean and correlation_inland > correlation_near_bay:\n",
        "    highest_category_subset = inland_subset\n",
        "    highest_correlation = correlation_inland\n",
        "elif correlation_near_ocean > correlation_inland and correlation_near_ocean > correlation_near_bay:\n",
        "    highest_category_subset = near_ocean_subset\n",
        "    highest_correlation = correlation_near_ocean\n",
        "else:\n",
        "    highest_category_subset = near_bay_subset\n",
        "    highest_correlation = correlation_near_bay\n",
        "\n",
        "# Print the subset with the highest correlation\n",
        "print(\"Subset with the highest correlation:\")\n",
        "print(highest_category_subset)\n",
        "print(\"Highest correlation:\", highest_correlation)\n",
        "\n",
        "# Scatterplot for the highest correlation subset\n",
        "plt.scatter(highest_category_subset['total_rooms_per_household'], highest_category_subset['median_house_value'])\n",
        "plt.xlabel('Total Rooms per Household')\n",
        "plt.ylabel('Median House Value')\n",
        "plt.title('Scatterplot - Subset with Highest Correlation')\n",
        "plt.show()\n"
      ],
      "metadata": {
        "id": "kJ8MTh2jZ1i9",
        "colab": {
          "base_uri": "https://localhost:8080/",
          "height": 1000
        },
        "outputId": "77779035-f5d0-4bcb-d1a0-a63f5c653196"
      },
      "execution_count": 44,
      "outputs": [
        {
          "output_type": "stream",
          "name": "stdout",
          "text": [
            "Correlation for INLAND subset: 0.197864054042\n",
            "Correlation for NEAR OCEAN subset: 0.486719333323\n",
            "Correlation for NEAR BAY subset: 0.354631152413\n",
            "Subset with the highest correlation:\n",
            "       longitude  latitude  housing_median_age  total_rooms  total_bedrooms  \\\n",
            "1737     -124.17     41.80                16.0       2739.0           480.0   \n",
            "1738     -124.30     41.80                19.0       2672.0           552.0   \n",
            "1739     -124.23     41.75                11.0       3159.0           616.0   \n",
            "1740     -124.21     41.77                17.0       3461.0           722.0   \n",
            "1741     -124.19     41.78                15.0       3140.0           714.0   \n",
            "...          ...       ...                 ...          ...             ...   \n",
            "11361    -118.83     34.14                16.0       1316.0           194.0   \n",
            "11362    -118.83     34.14                16.0       1956.0           312.0   \n",
            "11363    -119.00     34.08                17.0       1822.0           438.0   \n",
            "11364    -118.75     34.18                 4.0      16704.0          2704.0   \n",
            "11365    -118.75     34.17                18.0       6217.0           858.0   \n",
            "\n",
            "       population  households  median_income  median_house_value  \\\n",
            "1737       1259.0       436.0         3.7557            109400.0   \n",
            "1738       1298.0       478.0         1.9797             85800.0   \n",
            "1739       1343.0       479.0         2.4805             73200.0   \n",
            "1740       1947.0       647.0         2.5795             68400.0   \n",
            "1741       1645.0       640.0         1.6654             74600.0   \n",
            "...           ...         ...            ...                 ...   \n",
            "11361       450.0       173.0        10.1597            500001.0   \n",
            "11362       671.0       319.0         6.4001            321800.0   \n",
            "11363       578.0       291.0         5.4346            428600.0   \n",
            "11364      6187.0      2207.0         6.6122            357600.0   \n",
            "11365      2703.0       834.0         6.8075            325900.0   \n",
            "\n",
            "      ocean_proximity  total_rooms_per_household  \n",
            "1737       NEAR OCEAN                   6.282110  \n",
            "1738       NEAR OCEAN                   5.589958  \n",
            "1739       NEAR OCEAN                   6.594990  \n",
            "1740       NEAR OCEAN                   5.349304  \n",
            "1741       NEAR OCEAN                   4.906250  \n",
            "...               ...                        ...  \n",
            "11361      NEAR OCEAN                   7.606936  \n",
            "11362      NEAR OCEAN                   6.131661  \n",
            "11363      NEAR OCEAN                   6.261168  \n",
            "11364      NEAR OCEAN                   7.568645  \n",
            "11365      NEAR OCEAN                   7.454436  \n",
            "\n",
            "[2658 rows x 11 columns]\n",
            "Highest correlation: 0.486719333323\n"
          ]
        },
        {
          "output_type": "display_data",
          "data": {
            "text/plain": [
              "<Figure size 640x480 with 1 Axes>"
            ],
            "image/png": "[encoded data removed]"
          },
          "metadata": {}
        }
      ]
    },
    {
      "cell_type": "markdown",
      "source": [
        "**Exercise 3.3:** For your highest category only, build the regression model.\n",
        "\n",
        "Hint: you might need to define a few functions to find the standard units and parameters"
      ],
      "metadata": {
        "id": "j5Y8hOBbS5_O"
      }
    },
    {
      "cell_type": "code",
      "source": [
        "import pandas as pd\n",
        "import statsmodels.api as sm\n",
        "\n",
        "# Read the housing data\n",
        "housing_data = pd.read_csv('california_housing.csv')\n",
        "\n",
        "# Calculate the new variable 'total_rooms_per_household'\n",
        "housing_data['total_rooms_per_household'] = housing_data['total_rooms'] / housing_data['households']\n",
        "\n",
        "# Divide the data into subsets based on ocean_proximity category\n",
        "inland_subset = housing_data[housing_data['ocean_proximity'] == 'INLAND']\n",
        "near_ocean_subset = housing_data[housing_data['ocean_proximity'] == 'NEAR OCEAN']\n",
        "near_bay_subset = housing_data[housing_data['ocean_proximity'] == 'NEAR BAY']\n",
        "\n",
        "# Define function to calculate standard units\n",
        "def calculate_standard_units(values):\n",
        "    return (values - values.mean()) / values.std()\n",
        "\n",
        "# Define function to build regression model\n",
        "def build_regression_model(df):\n",
        "    X = sm.add_constant(df['total_rooms_per_household'])  # Add constant term to independent variable\n",
        "    y = df['median_house_value']  # Dependent variable\n",
        "\n",
        "    model = sm.OLS(y, X)  # Create the linear regression model\n",
        "    results = model.fit()  # Fit the model to the data\n",
        "\n",
        "    return results\n",
        "\n",
        "# Build regression model for the highest category subset\n",
        "results_highest_category = build_regression_model(highest_category_subset)\n",
        "\n",
        "# Print the regression model summary\n",
        "print(results_highest_category.summary())\n"
      ],
      "metadata": {
        "id": "hzYXIT7Oc5xC",
        "colab": {
          "base_uri": "https://localhost:8080/"
        },
        "outputId": "cf9c6739-2d47-4675-ccea-cb7f0c0defb7"
      },
      "execution_count": 45,
      "outputs": [
        {
          "output_type": "stream",
          "name": "stdout",
          "text": [
            "                            OLS Regression Results                            \n",
            "==============================================================================\n",
            "Dep. Variable:     median_house_value   R-squared:                       0.237\n",
            "Model:                            OLS   Adj. R-squared:                  0.237\n",
            "Method:                 Least Squares   F-statistic:                     824.5\n",
            "Date:                Fri, 30 Jun 2023   Prob (F-statistic):          3.74e-158\n",
            "Time:                        05:50:52   Log-Likelihood:                -34552.\n",
            "No. Observations:                2658   AIC:                         6.911e+04\n",
            "Df Residuals:                    2656   BIC:                         6.912e+04\n",
            "Df Model:                           1                                         \n",
            "Covariance Type:            nonrobust                                         \n",
            "=============================================================================================\n",
            "                                coef    std err          t      P>|t|      [0.025      0.975]\n",
            "---------------------------------------------------------------------------------------------\n",
            "const                      3.153e+04   7867.262      4.008      0.000    1.61e+04     4.7e+04\n",
            "total_rooms_per_household  4.186e+04   1457.646     28.714      0.000     3.9e+04    4.47e+04\n",
            "==============================================================================\n",
            "Omnibus:                       82.513   Durbin-Watson:                   0.479\n",
            "Prob(Omnibus):                  0.000   Jarque-Bera (JB):              157.877\n",
            "Skew:                           0.222   Prob(JB):                     5.22e-35\n",
            "Kurtosis:                       4.108   Cond. No.                         21.1\n",
            "==============================================================================\n",
            "\n",
            "Notes:\n",
            "[1] Standard Errors assume that the covariance matrix of the errors is correctly specified.\n"
          ]
        }
      ]
    },
    {
      "cell_type": "markdown",
      "metadata": {
        "id": "NSDqYwTYAEtx"
      },
      "source": [
        "**Exercise 3.4**:\n",
        "What we need now is one overall measure of the errors made during estimation. Define a function called `linear_rmse` that takes in four parameters: *slope, intercept, col_x (the predictor variable name), and col_y (the target variable name)*. It should return the `root mean squared error (RMSE)` for a line defined with the arguments slope and intercept used to predict `median_house_value` values from `total_rooms_per_household` for each row in your subset\n",
        "\n",
        "*Hint: Errors are defined as the difference between the actual y values and the predicted y values.*"
      ]
    },
    {
      "cell_type": "code",
      "execution_count": 48,
      "metadata": {
        "id": "SFnU5hMRAEty"
      },
      "outputs": [],
      "source": [
        "import numpy as np\n",
        "\n",
        "def linear_rmse(slope, intercept, col_x, col_y):\n",
        "    # Calculate predicted values\n",
        "    predicted_y = slope * col_x + intercept\n",
        "\n",
        "    # Calculate errors\n",
        "    errors = col_y - predicted_y\n",
        "\n",
        "    # Calculate RMSE\n",
        "    rmse = np.sqrt(np.mean(errors**2))\n",
        "\n",
        "    return rmse\n"
      ]
    },
    {
      "cell_type": "markdown",
      "source": [
        "**Exercise 3.5:** Run this code on all the subset you chose, this is the train dataset. What is the RMSE? Now run the code on the other subsets of `ocean_proxity`to measure how well your model generalizes"
      ],
      "metadata": {
        "id": "-JWQHMqhaJxz"
      }
    },
    {
      "cell_type": "code",
      "source": [
        "# Calculate RMSE for highest category subset\n",
        "rmse_highest_category = linear_rmse(slope, intercept, col_x, col_y)\n",
        "print(\"RMSE for highest category subset:\", rmse_highest_category)\n",
        "\n",
        "# Calculate RMSE for other subsets\n",
        "rmse_inland = linear_rmse(slope, intercept, inland_subset['total_rooms_per_household'], inland_subset['median_house_value'])\n",
        "rmse_near_ocean = linear_rmse(slope, intercept, near_ocean_subset['total_rooms_per_household'], near_ocean_subset['median_house_value'])\n",
        "rmse_near_bay = linear_rmse(slope, intercept, near_bay_subset['total_rooms_per_household'], near_bay_subset['median_house_value'])\n",
        "\n",
        "print(\"RMSE for INLAND subset:\", rmse_inland)\n",
        "print(\"RMSE for NEAR OCEAN subset:\", rmse_near_ocean)\n",
        "print(\"RMSE for NEAR BAY subset:\", rmse_near_bay)\n"
      ],
      "metadata": {
        "id": "dHHIoTfpazwc",
        "colab": {
          "base_uri": "https://localhost:8080/"
        },
        "outputId": "407b0a99-6808-4d71-a935-d90ecd175096"
      },
      "execution_count": 49,
      "outputs": [
        {
          "output_type": "stream",
          "name": "stdout",
          "text": [
            "RMSE for highest category subset: 106970.812394\n",
            "RMSE for INLAND subset: 226639.633376\n",
            "RMSE for NEAR OCEAN subset: 106970.812394\n",
            "RMSE for NEAR BAY subset: 115410.771794\n"
          ]
        }
      ]
    },
    {
      "cell_type": "markdown",
      "source": [
        "**Exercise 3.6:** Given the error value of the regression model, can we really say that `total_rooms_per_household` variable is the best choice for a predictor for `median_house_price`? The choice of a predictor is based on its importance. The importance is the magnitude of error obtained when a feature is used as the sole predictor. Here, your task is to determine the best choice for a predictor variable amongst all numerical features present in your subest for your category.\n",
        "\n",
        "To do this, you will need to define a function called `regression` that takes in two inputs: your data subest name `dataset` and `features` (a list containing the names of numerical features in our dataset) and returns a list of the errors (`list_of_errors`) obtained during regression.\n",
        "\n",
        "*Hint: This function iteratively estimate the error of prediction. In the ith iteration, the ith element of `features` is used to predict `median_house_price` and the error associated with this prediction is stored in a list `list_of_errors`."
      ],
      "metadata": {
        "id": "hvw49YktnGHc"
      }
    },
    {
      "cell_type": "code",
      "source": [
        "def regression(dataset, features):\n",
        "    list_of_errors = []\n",
        "\n",
        "    for feature in features:\n",
        "        # Fit the linear regression model using the current feature as the predictor\n",
        "        slope, intercept = linear_regression(dataset[feature], dataset['median_house_value'])\n",
        "\n",
        "        # Calculate the RMSE for the current feature\n",
        "        rmse = linear_rmse(slope, intercept, dataset[feature], dataset['median_house_value'])\n",
        "\n",
        "        # Append the RMSE to the list of errors\n",
        "        list_of_errors.append(rmse)\n",
        "\n",
        "    return list_of_errors\n"
      ],
      "metadata": {
        "id": "29l9Wc1tRJtp"
      },
      "execution_count": 50,
      "outputs": []
    },
    {
      "cell_type": "markdown",
      "source": [
        "**Exercise 3.7:** Rank all the features in descending order of importance as a list in `descending_importance`. Assign the list of errors to `list_of_errors` variable to determine if your chosen variable was the best!\n",
        "\n",
        "Hint: Use the `list_of_errors` to rank all numerical features."
      ],
      "metadata": {
        "id": "47-zQ75iQ-9D"
      }
    },
    {
      "cell_type": "code",
      "source": [
        "import numpy as np\n",
        "\n",
        "def linear_regression(x, y):\n",
        "    x_mean = np.mean(x)\n",
        "    y_mean = np.mean(y)\n",
        "    xy_mean = np.mean(x * y)\n",
        "    x_squared_mean = np.mean(x**2)\n",
        "\n",
        "    slope = (xy_mean - x_mean * y_mean) / (x_squared_mean - x_mean**2)\n",
        "    intercept = y_mean - slope * x_mean\n",
        "\n",
        "    return slope, intercept\n",
        "\n",
        "def regression(dataset, features):\n",
        "    list_of_errors = []\n",
        "    for feature in features:\n",
        "        # Fit the linear regression model using the current feature as the predictor\n",
        "        slope, intercept = linear_regression(dataset[feature], dataset['median_house_value'])\n",
        "\n",
        "        # Calculate the RMSE for the current feature\n",
        "        predicted_values = slope * dataset[feature] + intercept\n",
        "        errors = predicted_values - dataset['median_house_value']\n",
        "        rmse = np.sqrt(np.mean(errors**2))\n",
        "\n",
        "        # Store the error in the list_of_errors\n",
        "        list_of_errors.append(rmse)\n",
        "\n",
        "    return list_of_errors\n",
        "\n",
        "# Define the dataset and numerical features\n",
        "dataset = highest_category_subset\n",
        "numerical_features = ['total_rooms_per_household', 'numeric_feature1', 'numeric_feature2', ...]\n",
        "\n",
        "# Perform regression and obtain the list of errors\n",
        "list_of_errors = regression(dataset, numerical_features)\n",
        "\n",
        "# Create a dictionary mapping each feature to its corresponding error\n",
        "errors_dict = dict(zip(numerical_features, list_of_errors))\n",
        "\n",
        "# Sort the features based on their errors in descending order of importance\n",
        "descending_importance = sorted(errors_dict, key=errors_dict.get, reverse=True)\n",
        "\n",
        "# Print the descending_importance list\n",
        "print(\"Features ranked in descending order of importance:\")\n",
        "print(descending_importance)\n",
        "\n"
      ],
      "metadata": {
        "id": "ImHBwJJ2uHTE",
        "colab": {
          "base_uri": "https://localhost:8080/",
          "height": 514
        },
        "outputId": "123935d9-29bd-4a09-d42e-a67b43547f47"
      },
      "execution_count": 54,
      "outputs": [
        {
          "output_type": "error",
          "ename": "KeyError",
          "evalue": "ignored",
          "traceback": [
            "\u001b[0;31m---------------------------------------------------------------------------\u001b[0m",
            "\u001b[0;31mKeyError\u001b[0m                                  Traceback (most recent call last)",
            "\u001b[0;32m/usr/local/lib/python3.10/dist-packages/pandas/core/indexes/base.py\u001b[0m in \u001b[0;36mget_loc\u001b[0;34m(self, key, method, tolerance)\u001b[0m\n\u001b[1;32m   3801\u001b[0m             \u001b[0;32mtry\u001b[0m\u001b[0;34m:\u001b[0m\u001b[0;34m\u001b[0m\u001b[0;34m\u001b[0m\u001b[0m\n\u001b[0;32m-> 3802\u001b[0;31m                 \u001b[0;32mreturn\u001b[0m \u001b[0mself\u001b[0m\u001b[0;34m.\u001b[0m\u001b[0m_engine\u001b[0m\u001b[0;34m.\u001b[0m\u001b[0mget_loc\u001b[0m\u001b[0;34m(\u001b[0m\u001b[0mcasted_key\u001b[0m\u001b[0;34m)\u001b[0m\u001b[0;34m\u001b[0m\u001b[0;34m\u001b[0m\u001b[0m\n\u001b[0m\u001b[1;32m   3803\u001b[0m             \u001b[0;32mexcept\u001b[0m \u001b[0mKeyError\u001b[0m \u001b[0;32mas\u001b[0m \u001b[0merr\u001b[0m\u001b[0;34m:\u001b[0m\u001b[0;34m\u001b[0m\u001b[0;34m\u001b[0m\u001b[0m\n",
            "\u001b[0;32m/usr/local/lib/python3.10/dist-packages/pandas/_libs/index.pyx\u001b[0m in \u001b[0;36mpandas._libs.index.IndexEngine.get_loc\u001b[0;34m()\u001b[0m\n",
            "\u001b[0;32m/usr/local/lib/python3.10/dist-packages/pandas/_libs/index.pyx\u001b[0m in \u001b[0;36mpandas._libs.index.IndexEngine.get_loc\u001b[0;34m()\u001b[0m\n",
            "\u001b[0;32mpandas/_libs/hashtable_class_helper.pxi\u001b[0m in \u001b[0;36mpandas._libs.hashtable.PyObjectHashTable.get_item\u001b[0;34m()\u001b[0m\n",
            "\u001b[0;32mpandas/_libs/hashtable_class_helper.pxi\u001b[0m in \u001b[0;36mpandas._libs.hashtable.PyObjectHashTable.get_item\u001b[0;34m()\u001b[0m\n",
            "\u001b[0;31mKeyError\u001b[0m: 'numeric_feature1'",
            "\nThe above exception was the direct cause of the following exception:\n",
            "\u001b[0;31mKeyError\u001b[0m                                  Traceback (most recent call last)",
            "\u001b[0;32m<ipython-input-54-81d916ffcc25>\u001b[0m in \u001b[0;36m<cell line: 35>\u001b[0;34m()\u001b[0m\n\u001b[1;32m     33\u001b[0m \u001b[0;34m\u001b[0m\u001b[0m\n\u001b[1;32m     34\u001b[0m \u001b[0;31m# Perform regression and obtain the list of errors\u001b[0m\u001b[0;34m\u001b[0m\u001b[0;34m\u001b[0m\u001b[0m\n\u001b[0;32m---> 35\u001b[0;31m \u001b[0mlist_of_errors\u001b[0m \u001b[0;34m=\u001b[0m \u001b[0mregression\u001b[0m\u001b[0;34m(\u001b[0m\u001b[0mdataset\u001b[0m\u001b[0;34m,\u001b[0m \u001b[0mnumerical_features\u001b[0m\u001b[0;34m)\u001b[0m\u001b[0;34m\u001b[0m\u001b[0;34m\u001b[0m\u001b[0m\n\u001b[0m\u001b[1;32m     36\u001b[0m \u001b[0;34m\u001b[0m\u001b[0m\n\u001b[1;32m     37\u001b[0m \u001b[0;31m# Create a dictionary mapping each feature to its corresponding error\u001b[0m\u001b[0;34m\u001b[0m\u001b[0;34m\u001b[0m\u001b[0m\n",
            "\u001b[0;32m<ipython-input-54-81d916ffcc25>\u001b[0m in \u001b[0;36mregression\u001b[0;34m(dataset, features)\u001b[0m\n\u001b[1;32m     16\u001b[0m     \u001b[0;32mfor\u001b[0m \u001b[0mfeature\u001b[0m \u001b[0;32min\u001b[0m \u001b[0mfeatures\u001b[0m\u001b[0;34m:\u001b[0m\u001b[0;34m\u001b[0m\u001b[0;34m\u001b[0m\u001b[0m\n\u001b[1;32m     17\u001b[0m         \u001b[0;31m# Fit the linear regression model using the current feature as the predictor\u001b[0m\u001b[0;34m\u001b[0m\u001b[0;34m\u001b[0m\u001b[0m\n\u001b[0;32m---> 18\u001b[0;31m         \u001b[0mslope\u001b[0m\u001b[0;34m,\u001b[0m \u001b[0mintercept\u001b[0m \u001b[0;34m=\u001b[0m \u001b[0mlinear_regression\u001b[0m\u001b[0;34m(\u001b[0m\u001b[0mdataset\u001b[0m\u001b[0;34m[\u001b[0m\u001b[0mfeature\u001b[0m\u001b[0;34m]\u001b[0m\u001b[0;34m,\u001b[0m \u001b[0mdataset\u001b[0m\u001b[0;34m[\u001b[0m\u001b[0;34m'median_house_value'\u001b[0m\u001b[0;34m]\u001b[0m\u001b[0;34m)\u001b[0m\u001b[0;34m\u001b[0m\u001b[0;34m\u001b[0m\u001b[0m\n\u001b[0m\u001b[1;32m     19\u001b[0m \u001b[0;34m\u001b[0m\u001b[0m\n\u001b[1;32m     20\u001b[0m         \u001b[0;31m# Calculate the RMSE for the current feature\u001b[0m\u001b[0;34m\u001b[0m\u001b[0;34m\u001b[0m\u001b[0m\n",
            "\u001b[0;32m/usr/local/lib/python3.10/dist-packages/pandas/core/frame.py\u001b[0m in \u001b[0;36m__getitem__\u001b[0;34m(self, key)\u001b[0m\n\u001b[1;32m   3805\u001b[0m             \u001b[0;32mif\u001b[0m \u001b[0mself\u001b[0m\u001b[0;34m.\u001b[0m\u001b[0mcolumns\u001b[0m\u001b[0;34m.\u001b[0m\u001b[0mnlevels\u001b[0m \u001b[0;34m>\u001b[0m \u001b[0;36m1\u001b[0m\u001b[0;34m:\u001b[0m\u001b[0;34m\u001b[0m\u001b[0;34m\u001b[0m\u001b[0m\n\u001b[1;32m   3806\u001b[0m                 \u001b[0;32mreturn\u001b[0m \u001b[0mself\u001b[0m\u001b[0;34m.\u001b[0m\u001b[0m_getitem_multilevel\u001b[0m\u001b[0;34m(\u001b[0m\u001b[0mkey\u001b[0m\u001b[0;34m)\u001b[0m\u001b[0;34m\u001b[0m\u001b[0;34m\u001b[0m\u001b[0m\n\u001b[0;32m-> 3807\u001b[0;31m             \u001b[0mindexer\u001b[0m \u001b[0;34m=\u001b[0m \u001b[0mself\u001b[0m\u001b[0;34m.\u001b[0m\u001b[0mcolumns\u001b[0m\u001b[0;34m.\u001b[0m\u001b[0mget_loc\u001b[0m\u001b[0;34m(\u001b[0m\u001b[0mkey\u001b[0m\u001b[0;34m)\u001b[0m\u001b[0;34m\u001b[0m\u001b[0;34m\u001b[0m\u001b[0m\n\u001b[0m\u001b[1;32m   3808\u001b[0m             \u001b[0;32mif\u001b[0m \u001b[0mis_integer\u001b[0m\u001b[0;34m(\u001b[0m\u001b[0mindexer\u001b[0m\u001b[0;34m)\u001b[0m\u001b[0;34m:\u001b[0m\u001b[0;34m\u001b[0m\u001b[0;34m\u001b[0m\u001b[0m\n\u001b[1;32m   3809\u001b[0m                 \u001b[0mindexer\u001b[0m \u001b[0;34m=\u001b[0m \u001b[0;34m[\u001b[0m\u001b[0mindexer\u001b[0m\u001b[0;34m]\u001b[0m\u001b[0;34m\u001b[0m\u001b[0;34m\u001b[0m\u001b[0m\n",
            "\u001b[0;32m/usr/local/lib/python3.10/dist-packages/pandas/core/indexes/base.py\u001b[0m in \u001b[0;36mget_loc\u001b[0;34m(self, key, method, tolerance)\u001b[0m\n\u001b[1;32m   3802\u001b[0m                 \u001b[0;32mreturn\u001b[0m \u001b[0mself\u001b[0m\u001b[0;34m.\u001b[0m\u001b[0m_engine\u001b[0m\u001b[0;34m.\u001b[0m\u001b[0mget_loc\u001b[0m\u001b[0;34m(\u001b[0m\u001b[0mcasted_key\u001b[0m\u001b[0;34m)\u001b[0m\u001b[0;34m\u001b[0m\u001b[0;34m\u001b[0m\u001b[0m\n\u001b[1;32m   3803\u001b[0m             \u001b[0;32mexcept\u001b[0m \u001b[0mKeyError\u001b[0m \u001b[0;32mas\u001b[0m \u001b[0merr\u001b[0m\u001b[0;34m:\u001b[0m\u001b[0;34m\u001b[0m\u001b[0;34m\u001b[0m\u001b[0m\n\u001b[0;32m-> 3804\u001b[0;31m                 \u001b[0;32mraise\u001b[0m \u001b[0mKeyError\u001b[0m\u001b[0;34m(\u001b[0m\u001b[0mkey\u001b[0m\u001b[0;34m)\u001b[0m \u001b[0;32mfrom\u001b[0m \u001b[0merr\u001b[0m\u001b[0;34m\u001b[0m\u001b[0;34m\u001b[0m\u001b[0m\n\u001b[0m\u001b[1;32m   3805\u001b[0m             \u001b[0;32mexcept\u001b[0m \u001b[0mTypeError\u001b[0m\u001b[0;34m:\u001b[0m\u001b[0;34m\u001b[0m\u001b[0;34m\u001b[0m\u001b[0m\n\u001b[1;32m   3806\u001b[0m                 \u001b[0;31m# If we have a listlike key, _check_indexing_error will raise\u001b[0m\u001b[0;34m\u001b[0m\u001b[0;34m\u001b[0m\u001b[0m\n",
            "\u001b[0;31mKeyError\u001b[0m: 'numeric_feature1'"
          ]
        }
      ]
    },
    {
      "cell_type": "markdown",
      "source": [
        "## Part 4: Classification: Loan default prediction!\n",
        "\n",
        "A financial institution named XFinance is trying predict the tendency that a given customer will default on loan if approved. To classify these customers, XFinance has access to the customer behaviour and demographic data. Recall Loan data set from question 1."
      ],
      "metadata": {
        "id": "c80Dx2ihYYHd"
      }
    },
    {
      "cell_type": "code",
      "source": [
        "loan_data = ..."
      ],
      "metadata": {
        "id": "9CveACSJKSD0"
      },
      "execution_count": null,
      "outputs": []
    },
    {
      "cell_type": "markdown",
      "source": [
        "Here, we will encode the categories present in the categorical variables. This is because computer algorithms only understand number (floats and integers) and not strings."
      ],
      "metadata": {
        "id": "tV3NGdn9FONz"
      }
    },
    {
      "cell_type": "code",
      "source": [
        "#Functions to encode categorical features\n",
        "def replace_marital_status(value):\n",
        "    if value == 'single':\n",
        "        return 1\n",
        "    elif value == 'married':\n",
        "        return 0\n",
        "\n",
        "def replace_car_onwership(value):\n",
        "    if value == 'yes':\n",
        "        return 1\n",
        "    elif value == 'no':\n",
        "        return 0\n",
        "\n",
        "def replace_house_ownership(value):\n",
        "    if value == 'rented':\n",
        "        return 1\n",
        "    elif value == 'norent_noown':\n",
        "        return 0\n",
        "    else:\n",
        "        return 2\n",
        "\n",
        "\n",
        "# Encode the categorical variables by applying the defined functions to the respective columns 'Marital Status','House_Ownership','Car_Ownership'\n",
        "\n",
        "\n",
        "# look at the first five rows of your data to check your work"
      ],
      "metadata": {
        "id": "N2fh1LjwE2Df"
      },
      "execution_count": null,
      "outputs": []
    },
    {
      "cell_type": "markdown",
      "source": [
        "**Exercise 4.1:** Assign `features` to an array of the labels of the features from the `loan_data` data.\n",
        "\n",
        "*Hint: which of the columns in `loan_data` are suitable as predictor variables?*"
      ],
      "metadata": {
        "id": "4YMTgB72u7n5"
      }
    },
    {
      "cell_type": "code",
      "source": [
        "features = #YOUR SOLUTION HERE"
      ],
      "metadata": {
        "id": "s-1xwAsdu--1"
      },
      "execution_count": null,
      "outputs": []
    },
    {
      "cell_type": "markdown",
      "source": [
        "**Exercise 4.2:** Before you start building the classifier, you need to split the dataset into different portions. Remember that our objective is to build a classifier using customer data for which we know the associated label.\n",
        "\n",
        "- Your task is to split the dataset into two portions: `training` and `testing` sets. Create a testing set with 75% of the data (1200 data points) and 25% (400 data points) for the test set. Remember to shuffle the data before splitting."
      ],
      "metadata": {
        "id": "GiqMvEttBYz3"
      }
    },
    {
      "cell_type": "code",
      "source": [
        "shuffled_data = #YOUR SOLUTION HERE\n",
        "training_set = #YOUR SOLUTION HERE\n",
        "test_set = #YOUR SOLUTION HERE\n",
        "\n",
        "#check you have the correct number of rows in the training_set and the test_set"
      ],
      "metadata": {
        "id": "gnChGB7fCLZb"
      },
      "execution_count": null,
      "outputs": []
    },
    {
      "cell_type": "markdown",
      "source": [
        "**Exercise 4.3**: Let's begin by implementing the k-Nearest Neighbors algorithm. The Nearest Neighbors makes inference by ranking similar data points on the basis of `Euclidean distance`. Here, you are required to define a distance function called `row_distance`, which takes in two arguments: `two numerical rows from data` and return the `Euclidean distance` between these rows.\n",
        "\n"
      ],
      "metadata": {
        "id": "RxSDBtaxBG5d"
      }
    },
    {
      "cell_type": "code",
      "source": [
        "def row_distance(row1, row2):\n",
        "    \"\"\"Return the distance between two numerical rows from the data\"\"\"\n",
        "    #YOUR SOLUTION HERE\n",
        "\n",
        "# Drop the Risk Flag\n",
        "attributes = loan_data.drop('Risk_Flag')\n",
        "\n",
        "#test your function\n",
        "distance_example = row_distance(...)\n",
        "print(distance_example)"
      ],
      "metadata": {
        "id": "2pGOmJEaBYJs"
      },
      "execution_count": null,
      "outputs": []
    },
    {
      "cell_type": "markdown",
      "source": [
        "Now, You task is to write a function called `distances` that computes a data set with the training set and distances to the example for each row in the training set.\n",
        "- *Hint 1: The function iterates over each row in the training set, calculates the distance between the ith row and an example from the test set using `row_distance`, and constructs a new table with the distances appended as a new column.*\n",
        "- *Hint 2: To implement the function `distances`:*\n",
        "  - Iterate over each row in the training set.\n",
        "  - Call `row_distance` for each row and the specified example (i.e parameter `example`).\n",
        "  - Returns a new data set with the distances appended as a new column."
      ],
      "metadata": {
        "id": "Adc1U0MyRwsg"
      }
    },
    {
      "cell_type": "code",
      "source": [
        "def distances(training, example):\n",
        "    \"\"\"Compute a table with the training set and distances to the example for each row in the training set.\"\"\"\n",
        "    #YOUR SOLUTION HERE"
      ],
      "metadata": {
        "id": "RUpm703bRsRL"
      },
      "execution_count": null,
      "outputs": []
    },
    {
      "cell_type": "markdown",
      "source": [
        "**Exercise 4.4:** Write a function called `closest` that returns a data set of the `k` closest neighbors for a given any row `example`, sorts the data based on the distances, and returns the top k rows. This function must call `distances` to compute the distances between the provided data point and all rows in the training set.\n",
        "\n"
      ],
      "metadata": {
        "id": "RAuO9le8XEzA"
      }
    },
    {
      "cell_type": "code",
      "source": [
        "def closest(training, example, k):\n",
        "    \"\"\"Return a data set of the k closest neighbors to example\"\"\"\n",
        "    #YOUR SOLUTION HERE\n",
        "\n"
      ],
      "metadata": {
        "id": "TvbusfDIVnil"
      },
      "execution_count": null,
      "outputs": []
    },
    {
      "cell_type": "markdown",
      "source": [
        "**Exercise 4.5:** It is believed that defaulters often show overlapping behaviours or demographic attribute. Remember that each row represent a unique customer. Assume that the row index in the training set corresponds to a unique customer ID. Given a customer with ID `69`, who are the top `three` customers closest in the training set? Return a data set of these customers and assign to `top_three_customers`.\n",
        "\n",
        "*Hint 1: you should be using a function you just created! Remember to drop the target `Risk_Flag` from this customer test case before using the function.*\n",
        "\n",
        "*Hint 2: The 69th customer is not the 69th index*"
      ],
      "metadata": {
        "id": "stq_UWXUbBNq"
      }
    },
    {
      "cell_type": "code",
      "source": [
        "customer = #DEFINE THE CUSTOMER with ID 69\n",
        "top_three_customers = #YOUR SOLUTION HERE\n",
        "\n"
      ],
      "metadata": {
        "id": "3-bXdAeobZU2"
      },
      "execution_count": null,
      "outputs": []
    },
    {
      "cell_type": "markdown",
      "source": [
        "**Exercise 4.6:**  Now define the `classify` function. This function should take in a `row` from a dataset like `test` and classify it based on the data in `train` using the `k`-Nearest Neighbors based on the correct `features`.\n",
        "\n",
        "Hint: you need to define some functions to pass a row as a series or array"
      ],
      "metadata": {
        "id": "AOrG7hSAY3UR"
      }
    },
    {
      "cell_type": "code",
      "source": [
        "def row_to_array(row, features):\n",
        "    #your code here"
      ],
      "metadata": {
        "id": "yWtE7niKyw4d"
      },
      "execution_count": null,
      "outputs": []
    },
    {
      "cell_type": "code",
      "source": [
        "def classify(row, k, train):\n",
        "    #your code here"
      ],
      "metadata": {
        "id": "T_436PhIyJXS"
      },
      "execution_count": null,
      "outputs": []
    },
    {
      "cell_type": "markdown",
      "source": [
        "**Exercise 4.7:** Obtain the prediction for the 13th customer in the loan dataset using a 5-neighbors classifier."
      ],
      "metadata": {
        "id": "G18Pxhd6VWjj"
      }
    },
    {
      "cell_type": "code",
      "source": [
        "example_row = #The test row here\n",
        "prediction = #your code here"
      ],
      "metadata": {
        "id": "fxk-ox3cWLzy"
      },
      "execution_count": null,
      "outputs": []
    },
    {
      "cell_type": "markdown",
      "source": [
        "**Exercise 4.8:** Evaluating our model is very crucial. This is the reason why we decided our dataset in the first place! Given the train and test sets, can you define a function called `evaluate_accuracy` that evaluates the accuracy of using a specified \"K\" neighbor value?\n",
        "- Obtain the accuracy of a 5-neighbors classifier on the test set using your newly defined function."
      ],
      "metadata": {
        "id": "ltjKVlDdD_qA"
      }
    },
    {
      "cell_type": "code",
      "source": [
        "def evaluate_accuracy(training, test, k):\n",
        "    .....\n",
        "accuracy = # your code here"
      ],
      "metadata": {
        "id": "agqs5PcgWW5t"
      },
      "execution_count": null,
      "outputs": []
    },
    {
      "cell_type": "markdown",
      "source": [
        "**Exercise 4.9:** Do you think that there is an optimal value of k? Investigate and obtain the optimal value of k within the range of (1,8) for which a k-Nearest Neighbor classifier would predict best.\n",
        "Assign the value to `optimal_k`."
      ],
      "metadata": {
        "id": "Unwg-RcIClL5"
      }
    },
    {
      "cell_type": "code",
      "source": [
        "#Your solution here\n",
        "optimal_k = ...."
      ],
      "metadata": {
        "id": "q33sAfZMC8oX"
      },
      "execution_count": null,
      "outputs": []
    }
  ]
}